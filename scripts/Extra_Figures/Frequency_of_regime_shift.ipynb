{
 "cells": [
  {
   "cell_type": "code",
   "execution_count": 1,
   "metadata": {},
   "outputs": [],
   "source": [
    "from ozclim import tools\n",
    "import xarray as xr \n",
    "import matplotlib.pyplot as plt\n",
    "import seaborn as sns \n",
    "import numpy as np \n",
    "from scipy import stats \n",
    "\n",
    "import warnings\n",
    "warnings.filterwarnings(\"ignore\")\n",
    "\n",
    "%matplotlib inline\n",
    "%load_ext autoreload\n",
    "%autoreload 2"
   ]
  },
  {
   "cell_type": "code",
   "execution_count": 2,
   "metadata": {},
   "outputs": [
    {
     "name": "stdout",
     "output_type": "stream",
     "text": [
      "['/Users/emmie/Documents/OZCLIM_local/data/GCHP_CAM_c48_20240312/GCHP.w10_ref_c48.MDA8_O3.nc4']\n",
      "['/Users/emmie/Documents/OZCLIM_local/data/GCHP_CAM_c48_20240312/GCHP.w13_ref_c48.MDA8_O3.nc4']\n",
      "['/Users/emmie/Documents/OZCLIM_local/data/GCHP_CAM_c48_20240312/GCHP.w14_ref_c48.MDA8_O3.nc4']\n",
      "['/Users/emmie/Documents/OZCLIM_local/data/GCHP_CAM_c48_20240312/GCHP.w26_ref_c48.MDA8_O3.nc4']\n",
      "['/Users/emmie/Documents/OZCLIM_local/data/GCHP_CAM_c48_20240312/GCHP.w28_ref_c48.MDA8_O3.nc4']\n",
      "['/Users/emmie/Documents/OZCLIM_local/data/GCHP_CAM_c48_20240312/GCHP.w10_refSNOx_c48.MDA8_O3.nc4']\n",
      "['/Users/emmie/Documents/OZCLIM_local/data/GCHP_CAM_c48_20240312/GCHP.w13_refSNOx_c48.MDA8_O3.nc4']\n",
      "['/Users/emmie/Documents/OZCLIM_local/data/GCHP_CAM_c48_20240312/GCHP.w14_refSNOx_c48.MDA8_O3.nc4']\n",
      "['/Users/emmie/Documents/OZCLIM_local/data/GCHP_CAM_c48_20240312/GCHP.w26_refSNOx_c48.MDA8_O3.nc4']\n",
      "['/Users/emmie/Documents/OZCLIM_local/data/GCHP_CAM_c48_20240312/GCHP.w28_refSNOx_c48.MDA8_O3.nc4']\n",
      "['/Users/emmie/Documents/OZCLIM_local/data/GCHP_CAM_c48_20240312/GCHP.w10_refshort_c48.MDA8_O3.nc4']\n",
      "['/Users/emmie/Documents/OZCLIM_local/data/GCHP_CAM_c48_20240312/GCHP.w13_refshort_c48.MDA8_O3.nc4']\n",
      "['/Users/emmie/Documents/OZCLIM_local/data/GCHP_CAM_c48_20240312/GCHP.w14_refshort_c48.MDA8_O3.nc4']\n",
      "['/Users/emmie/Documents/OZCLIM_local/data/GCHP_CAM_c48_20240312/GCHP.w26_refshort_c48.MDA8_O3.nc4']\n",
      "['/Users/emmie/Documents/OZCLIM_local/data/GCHP_CAM_c48_20240312/GCHP.w28_refshort_c48.MDA8_O3.nc4']\n",
      "['/Users/emmie/Documents/OZCLIM_local/data/GCHP_CAM_c48_20240312/GCHP.w10_refSNOxshort_c48.MDA8_O3.nc4']\n",
      "['/Users/emmie/Documents/OZCLIM_local/data/GCHP_CAM_c48_20240312/GCHP.w13_refSNOxshort_c48.MDA8_O3.nc4']\n",
      "['/Users/emmie/Documents/OZCLIM_local/data/GCHP_CAM_c48_20240312/GCHP.w14_refSNOxshort_c48.MDA8_O3.nc4']\n",
      "['/Users/emmie/Documents/OZCLIM_local/data/GCHP_CAM_c48_20240312/GCHP.w26_refSNOxshort_c48.MDA8_O3.nc4']\n",
      "['/Users/emmie/Documents/OZCLIM_local/data/GCHP_CAM_c48_20240312/GCHP.w28_refSNOxshort_c48.MDA8_O3.nc4']\n",
      "['/Users/emmie/Documents/OZCLIM_local/data/GCHP_CAM_c48_20240312/GCHP.w10_pol3.7short_c48.MDA8_O3.nc4']\n",
      "['/Users/emmie/Documents/OZCLIM_local/data/GCHP_CAM_c48_20240312/GCHP.w13_pol3.7short_c48.MDA8_O3.nc4']\n",
      "['/Users/emmie/Documents/OZCLIM_local/data/GCHP_CAM_c48_20240312/GCHP.w14_pol3.7short_c48.MDA8_O3.nc4']\n",
      "['/Users/emmie/Documents/OZCLIM_local/data/GCHP_CAM_c48_20240312/GCHP.w26_pol3.7short_c48.MDA8_O3.nc4']\n",
      "['/Users/emmie/Documents/OZCLIM_local/data/GCHP_CAM_c48_20240312/GCHP.w28_pol3.7short_c48.MDA8_O3.nc4']\n",
      "['/Users/emmie/Documents/OZCLIM_local/data/GCHP_CAM_c48_20240312/GCHP.w10_pol3.7SNOxshort_c48.MDA8_O3.nc4']\n",
      "['/Users/emmie/Documents/OZCLIM_local/data/GCHP_CAM_c48_20240312/GCHP.w13_pol3.7SNOxshort_c48.MDA8_O3.nc4']\n",
      "['/Users/emmie/Documents/OZCLIM_local/data/GCHP_CAM_c48_20240312/GCHP.w14_pol3.7SNOxshort_c48.MDA8_O3.nc4']\n",
      "['/Users/emmie/Documents/OZCLIM_local/data/GCHP_CAM_c48_20240312/GCHP.w26_pol3.7SNOxshort_c48.MDA8_O3.nc4']\n",
      "['/Users/emmie/Documents/OZCLIM_local/data/GCHP_CAM_c48_20240312/GCHP.w28_pol3.7SNOxshort_c48.MDA8_O3.nc4']\n"
     ]
    }
   ],
   "source": [
    "ref = tools.get_ensemble_ds(\"ref\", \"MDA8_O3\")*1e9 # ppbv\n",
    "refSNOx = tools.get_ensemble_ds(\"refSNOx\", \"MDA8_O3\")*1e9 # ppbv\n",
    "\n",
    "refshort = tools.get_ensemble_ds(\"refshort\", \"MDA8_O3\")*1e9 # ppbv\n",
    "refSNOxshort = tools.get_ensemble_ds(\"refSNOxshort\", \"MDA8_O3\")*1e9 # ppbv\n",
    "\n",
    "polshort = tools.get_ensemble_ds(\"pol3.7short\", \"MDA8_O3\")*1e9 # ppbv\n",
    "polSNOxshort = tools.get_ensemble_ds(\"pol3.7SNOxshort\", \"MDA8_O3\")*1e9 # ppbv"
   ]
  },
  {
   "cell_type": "code",
   "execution_count": 3,
   "metadata": {},
   "outputs": [],
   "source": [
    "present_ratio = refSNOx/ref\n",
    "future_ratio = refSNOxshort/refshort\n",
    "futurepol_ratio = polSNOxshort/polshort"
   ]
  },
  {
   "cell_type": "code",
   "execution_count": 4,
   "metadata": {},
   "outputs": [],
   "source": [
    "present_ratio_noland = tools.mask_ocean_c48(present_ratio)\n",
    "future_ratio_noland = tools.mask_ocean_c48(future_ratio)\n",
    "futurepol_ratio_noland = tools.mask_ocean_c48(futurepol_ratio)"
   ]
  },
  {
   "cell_type": "code",
   "execution_count": 32,
   "metadata": {},
   "outputs": [
    {
     "name": "stdout",
     "output_type": "stream",
     "text": [
      "[574 587 582 602 616]\n",
      "[0 0 0 0 0]\n"
     ]
    }
   ],
   "source": [
    "# Eastern North America\n",
    "region_num = 5\n",
    "\n",
    "present_ratio_noland_region = tools.crop_regionmask_ar6_c48(present_ratio_noland, region_num)\n",
    "future_ratio_noland_region = tools.crop_regionmask_ar6_c48(future_ratio_noland, region_num)  \n",
    "futurepol_ratio_noland_region = tools.crop_regionmask_ar6_c48(futurepol_ratio_noland, region_num)\n",
    "\n",
    "present = present_ratio_noland_region['SpeciesConc_O3'].isel(lev=0, region=0, drop=True)\n",
    "future = future_ratio_noland_region['SpeciesConc_O3'].isel(lev=0, region=0, drop=True)\n",
    "futurepol = futurepol_ratio_noland_region['SpeciesConc_O3'].isel(lev=0, region=0, drop=True)\n",
    "\n",
    "prev_dO3_dNOx = present.shift(time=1)\n",
    "transition = ((prev_dO3_dNOx < 1) & (present > 1))\n",
    "transition_max = transition.sum(dim='time').max(dim=['nf', 'Ydim', 'Xdim'])\n",
    "print(transition_max.values)\n",
    "\n",
    "transition_min= transition.sum(dim='time').min(dim=['nf', 'Ydim', 'Xdim'])\n",
    "print(transition_min.values)\n",
    "\n",
    "transition_mean= transition.sum(dim='time').mean(dim=['nf', 'Ydim', 'Xdim'])\n",
    "print(transition_mean.values)"
   ]
  },
  {
   "cell_type": "code",
   "execution_count": 36,
   "metadata": {},
   "outputs": [
    {
     "name": "stdout",
     "output_type": "stream",
     "text": [
      "[653 615 669 694 639]\n",
      "[0 0 0 0 0]\n",
      "[2.51605903 2.47178819 2.48010706 2.46614583 2.55598958]\n"
     ]
    }
   ],
   "source": [
    "# West-Central Europe\n",
    "region_num = 17\n",
    "\n",
    "present_ratio_noland_region = tools.crop_regionmask_ar6_c48(present_ratio_noland, region_num)\n",
    "future_ratio_noland_region = tools.crop_regionmask_ar6_c48(future_ratio_noland, region_num)  \n",
    "futurepol_ratio_noland_region = tools.crop_regionmask_ar6_c48(futurepol_ratio_noland, region_num)\n",
    "\n",
    "present = present_ratio_noland_region['SpeciesConc_O3'].isel(lev=0, region=0, drop=True)\n",
    "future = future_ratio_noland_region['SpeciesConc_O3'].isel(lev=0, region=0, drop=True)\n",
    "futurepol = futurepol_ratio_noland_region['SpeciesConc_O3'].isel(lev=0, region=0, drop=True)\n",
    "\n",
    "prev_dO3_dNOx = present.shift(time=1)\n",
    "transition = ((prev_dO3_dNOx < 1) & (present > 1))\n",
    "transition_max = transition.sum(dim='time').max(dim=['nf', 'Ydim', 'Xdim'])\n",
    "print(transition_max.values)\n",
    "\n",
    "transition_min= transition.sum(dim='time').min(dim=['nf', 'Ydim', 'Xdim'])\n",
    "print(transition_min.values)\n",
    "\n",
    "transition_mean= transition.sum(dim='time').mean(dim=['nf', 'Ydim', 'Xdim'])\n",
    "print(transition_mean.values)"
   ]
  },
  {
   "cell_type": "code",
   "execution_count": 37,
   "metadata": {},
   "outputs": [
    {
     "name": "stdout",
     "output_type": "stream",
     "text": [
      "[958 962 979 953 952]\n",
      "[0 0 0 0 0]\n",
      "[7.05244502 7.08246528 7.03139468 7.12485532 7.0598235 ]\n"
     ]
    }
   ],
   "source": [
    "# West-Central Europe\n",
    "region_num = 35\n",
    "\n",
    "present_ratio_noland_region = tools.crop_regionmask_ar6_c48(present_ratio_noland, region_num)\n",
    "future_ratio_noland_region = tools.crop_regionmask_ar6_c48(future_ratio_noland, region_num)  \n",
    "futurepol_ratio_noland_region = tools.crop_regionmask_ar6_c48(futurepol_ratio_noland, region_num)\n",
    "\n",
    "present = present_ratio_noland_region['SpeciesConc_O3'].isel(lev=0, region=0, drop=True)\n",
    "future = future_ratio_noland_region['SpeciesConc_O3'].isel(lev=0, region=0, drop=True)\n",
    "futurepol = futurepol_ratio_noland_region['SpeciesConc_O3'].isel(lev=0, region=0, drop=True)\n",
    "\n",
    "prev_dO3_dNOx = present.shift(time=1)\n",
    "transition = ((prev_dO3_dNOx < 1) & (present > 1))\n",
    "transition_max = transition.sum(dim='time').max(dim=['nf', 'Ydim', 'Xdim'])\n",
    "print(transition_max.values)\n",
    "\n",
    "transition_min= transition.sum(dim='time').min(dim=['nf', 'Ydim', 'Xdim'])\n",
    "print(transition_min.values)\n",
    "\n",
    "transition_mean= transition.sum(dim='time').mean(dim=['nf', 'Ydim', 'Xdim'])\n",
    "print(transition_mean.values)"
   ]
  }
 ],
 "metadata": {
  "kernelspec": {
   "display_name": "Python 3",
   "language": "python",
   "name": "python3"
  },
  "language_info": {
   "codemirror_mode": {
    "name": "ipython",
    "version": 3
   },
   "file_extension": ".py",
   "mimetype": "text/x-python",
   "name": "python",
   "nbconvert_exporter": "python",
   "pygments_lexer": "ipython3",
   "version": "3.10.14"
  }
 },
 "nbformat": 4,
 "nbformat_minor": 2
}
